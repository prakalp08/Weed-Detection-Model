{
  "nbformat": 4,
  "nbformat_minor": 0,
  "metadata": {
    "colab": {
      "provenance": []
    },
    "kernelspec": {
      "name": "python3",
      "display_name": "Python 3"
    },
    "language_info": {
      "name": "python"
    }
  },
  "cells": [
    {
      "cell_type": "code",
      "execution_count": null,
      "metadata": {
        "id": "AtwBfDvFF17x"
      },
      "outputs": [],
      "source": [
        "import cv2\n",
        "import numpy as np\n",
        "from tensorflow.keras.models import load_model\n",
        "model = load_model('Weed_Detection _Model.h5')\n",
        "\n",
        "# Define the classes\n",
        "classes = ['celosia_label', 'crowfoot_label', 'chloris_label']\n",
        "\n",
        "# Open the webcam\n",
        "cap = cv2.VideoCapture(0)\n",
        "\n",
        "while True:\n",
        "     ret, frame = cap.read()\n",
        "    if ret:\n",
        "        frame = cv2.resize(frame, (224, 224))\n",
        "        frame = cv2.cvtColor(frame, cv2.COLOR_BGR2RGB)\n",
        "        frame = frame.astype(np.float32) / 255.0\n",
        "        frame = np.expand_dims(frame, axis=0)\n",
        "        prediction = model.predict(frame)\n",
        "\n",
        "        # Get the class with the highest probability\n",
        "        class_idx = np.argmax(prediction)\n",
        "        class_label = classes[class_idx]\n",
        "        class_prob = prediction[0, class_idx]\n",
        "\n",
        "        # Draw the class label and probability on the frame\n",
        "        label = f'{class_label}: {class_prob:.2f}'\n",
        "        cv2.putText(frame, label, (10, 30), cv2.FONT_HERSHEY_SIMPLEX, 1.0, (0, 255, 0), 2)\n",
        "\n",
        "        cv2.imshow('Webcam', frame)\n",
        "\n",
        "    # Exit on 'q' key\n",
        "    if cv2.waitKey(1) == ord('q'):\n",
        "        break\n",
        "cap.release()\n",
        "cv2.destroyAllWindows()"
      ]
    }
  ]
}
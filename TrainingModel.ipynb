{
  "nbformat": 4,
  "nbformat_minor": 0,
  "metadata": {
    "colab": {
      "provenance": []
    },
    "kernelspec": {
      "name": "python3",
      "display_name": "Python 3"
    },
    "language_info": {
      "name": "python"
    }
  },
  "cells": [
    {
      "cell_type": "code",
      "execution_count": 93,
      "metadata": {
        "id": "j9lcAgrdf5jd"
      },
      "outputs": [],
      "source": [
        "from tensorflow import keras\n",
        "from tensorflow.keras.models import Sequential\n",
        "from tensorflow.keras.layers import Dense, Activation, Dropout, Flatten, Conv2D, MaxPooling2D\n",
        "from tensorflow.keras.layers import BatchNormalization,ZeroPadding2D\n",
        "import cv2\n",
        "import numpy as np\n",
        "import os\n",
        "from tqdm import tqdm\n",
        "import tensorflow as tf"
      ]
    },
    {
      "cell_type": "code",
      "source": [
        "import zipfile\n",
        "local_zip='/content/Student Projects.zip'\n",
        "zip_ref = zipfile.ZipFile(local_zip, 'r')\n",
        "zip_ref.extractall()\n",
        "zip_ref.close()"
      ],
      "metadata": {
        "id": "xCuUvd9ag6pF"
      },
      "execution_count": 94,
      "outputs": []
    },
    {
      "cell_type": "code",
      "source": [
        "celosia='/content/CELOSIA ARGENTEA L'\n",
        "crowfoot='/content/CROWFOOT GRASS'\n",
        "chloris='/content/PURPLE CHLORIS'\n"
      ],
      "metadata": {
        "id": "8rKHWwHIi193"
      },
      "execution_count": 95,
      "outputs": []
    },
    {
      "cell_type": "code",
      "source": [
        "IMG_SZ=227\n",
        "labels=[]"
      ],
      "metadata": {
        "id": "OtTwi1Pcjf99"
      },
      "execution_count": 96,
      "outputs": []
    },
    {
      "cell_type": "code",
      "source": [
        "def image_read(TRAIN_DATA):\n",
        "    training_data = []\n",
        "    for img in tqdm(os.listdir(TRAIN_DATA)):\n",
        "        path = os.path.join(TRAIN_DATA,img)\n",
        "        img = cv2.imread(path)\n",
        "        if img is not None:\n",
        "          img = cv2.resize(img, (IMG_SZ,IMG_SZ))\n",
        "          img = cv2.cvtColor(img,cv2.COLOR_BGR2RGB)\n",
        "          training_data.append(np.array(img))\n",
        "    return training_data"
      ],
      "metadata": {
        "id": "dRL84wOZjq2j"
      },
      "execution_count": 97,
      "outputs": []
    },
    {
      "cell_type": "code",
      "source": [
        "def labels_funct(data,class_value):\n",
        "  y=np.ones(len(data),dtype=int)*class_value\n",
        "  return y"
      ],
      "metadata": {
        "id": "ebQEXliplAWI"
      },
      "execution_count": 98,
      "outputs": []
    },
    {
      "cell_type": "code",
      "source": [
        "celosia_data=image_read(celosia)\n"
      ],
      "metadata": {
        "colab": {
          "base_uri": "https://localhost:8080/"
        },
        "id": "Uauv1FvulVuv",
        "outputId": "7c479983-9985-4b4f-a08b-a8617b953565"
      },
      "execution_count": 99,
      "outputs": [
        {
          "output_type": "stream",
          "name": "stderr",
          "text": [
            "100%|██████████| 60/60 [00:00<00:00, 200.80it/s]\n"
          ]
        }
      ]
    },
    {
      "cell_type": "code",
      "source": [
        "crowfoot_data=image_read(crowfoot)\n"
      ],
      "metadata": {
        "colab": {
          "base_uri": "https://localhost:8080/"
        },
        "id": "HNjyHX0olpLj",
        "outputId": "7cfb0056-d6bc-4b82-da34-8296de94e6c8"
      },
      "execution_count": 100,
      "outputs": [
        {
          "output_type": "stream",
          "name": "stderr",
          "text": [
            "100%|██████████| 60/60 [00:00<00:00, 356.25it/s]\n"
          ]
        }
      ]
    },
    {
      "cell_type": "code",
      "source": [
        "chloris_data=image_read(chloris)"
      ],
      "metadata": {
        "colab": {
          "base_uri": "https://localhost:8080/"
        },
        "id": "bILWJcJumINd",
        "outputId": "b6d5af2b-5727-4409-c9f1-44e424678444"
      },
      "execution_count": 101,
      "outputs": [
        {
          "output_type": "stream",
          "name": "stderr",
          "text": [
            "100%|██████████| 73/73 [00:00<00:00, 206.18it/s]\n"
          ]
        }
      ]
    },
    {
      "cell_type": "code",
      "source": [
        "crowfoot_label=  labels_funct(crowfoot_data,0)"
      ],
      "metadata": {
        "id": "RsCqduoVmN22"
      },
      "execution_count": 102,
      "outputs": []
    },
    {
      "cell_type": "code",
      "source": [
        "celosia_label=  labels_funct(celosia_data,1)"
      ],
      "metadata": {
        "id": "lx7uUBFimh1o"
      },
      "execution_count": 103,
      "outputs": []
    },
    {
      "cell_type": "code",
      "source": [
        "chloris_label=  labels_funct(chloris_data,2)"
      ],
      "metadata": {
        "id": "P79PIzSLmub4"
      },
      "execution_count": 104,
      "outputs": []
    },
    {
      "cell_type": "code",
      "source": [
        "chloris_label.shape"
      ],
      "metadata": {
        "colab": {
          "base_uri": "https://localhost:8080/"
        },
        "id": "SiXqvWM4nBHW",
        "outputId": "d2b03c46-8355-4420-b758-4c3a8801407b"
      },
      "execution_count": 105,
      "outputs": [
        {
          "output_type": "execute_result",
          "data": {
            "text/plain": [
              "(73,)"
            ]
          },
          "metadata": {},
          "execution_count": 105
        }
      ]
    },
    {
      "cell_type": "code",
      "source": [
        "celosia_label.shape"
      ],
      "metadata": {
        "colab": {
          "base_uri": "https://localhost:8080/"
        },
        "id": "S3py_c1YnG3a",
        "outputId": "eb785550-791d-4dbf-fd7e-32ba4a59a535"
      },
      "execution_count": 106,
      "outputs": [
        {
          "output_type": "execute_result",
          "data": {
            "text/plain": [
              "(60,)"
            ]
          },
          "metadata": {},
          "execution_count": 106
        }
      ]
    },
    {
      "cell_type": "code",
      "source": [
        "crowfoot_label.shape"
      ],
      "metadata": {
        "colab": {
          "base_uri": "https://localhost:8080/"
        },
        "id": "CWURH586oPuP",
        "outputId": "2c5dda34-2aab-4586-df4c-fa43da8d3569"
      },
      "execution_count": 107,
      "outputs": [
        {
          "output_type": "execute_result",
          "data": {
            "text/plain": [
              "(60,)"
            ]
          },
          "metadata": {},
          "execution_count": 107
        }
      ]
    },
    {
      "cell_type": "code",
      "source": [
        "dataset=np.concatenate((crowfoot_data,celosia_data,chloris_data))"
      ],
      "metadata": {
        "id": "VWpaW0RWoS1Y"
      },
      "execution_count": 108,
      "outputs": []
    },
    {
      "cell_type": "code",
      "source": [
        "dataset.shape"
      ],
      "metadata": {
        "colab": {
          "base_uri": "https://localhost:8080/"
        },
        "id": "HEXUauVVoxy6",
        "outputId": "38f39e70-39a5-4ec0-9fda-e2111704f3a9"
      },
      "execution_count": 109,
      "outputs": [
        {
          "output_type": "execute_result",
          "data": {
            "text/plain": [
              "(193, 227, 227, 3)"
            ]
          },
          "metadata": {},
          "execution_count": 109
        }
      ]
    },
    {
      "cell_type": "code",
      "source": [
        "class_labels=np.concatenate((crowfoot_label,celosia_label,chloris_label))"
      ],
      "metadata": {
        "id": "A_y7v0uGpHiH"
      },
      "execution_count": 110,
      "outputs": []
    },
    {
      "cell_type": "code",
      "source": [
        "class_labels.shape"
      ],
      "metadata": {
        "colab": {
          "base_uri": "https://localhost:8080/"
        },
        "id": "doS8l_ENpnB9",
        "outputId": "97a5134d-a25e-4b7b-ad17-851ae6d25a79"
      },
      "execution_count": 111,
      "outputs": [
        {
          "output_type": "execute_result",
          "data": {
            "text/plain": [
              "(193,)"
            ]
          },
          "metadata": {},
          "execution_count": 111
        }
      ]
    },
    {
      "cell_type": "code",
      "source": [
        "import sklearn.model_selection as ms"
      ],
      "metadata": {
        "id": "tu4PMPh6ozFl"
      },
      "execution_count": 112,
      "outputs": []
    },
    {
      "cell_type": "code",
      "source": [
        "x_train,x_test,y_train,y_test=ms.train_test_split(dataset,class_labels,test_size=0.3,random_state=42)"
      ],
      "metadata": {
        "id": "d1ed1txept-_"
      },
      "execution_count": 113,
      "outputs": []
    },
    {
      "cell_type": "code",
      "source": [
        "x_train.shape,x_test.shape"
      ],
      "metadata": {
        "colab": {
          "base_uri": "https://localhost:8080/"
        },
        "id": "bxUrAh2Ipx2K",
        "outputId": "c0cd85a8-9f66-4e11-f45a-b4f8d0462224"
      },
      "execution_count": 114,
      "outputs": [
        {
          "output_type": "execute_result",
          "data": {
            "text/plain": [
              "((135, 227, 227, 3), (58, 227, 227, 3))"
            ]
          },
          "metadata": {},
          "execution_count": 114
        }
      ]
    },
    {
      "cell_type": "code",
      "source": [
        "from tensorflow.keras.utils import to_categorical\n",
        "y_train_onehot= to_categorical(y_train)\n",
        "y_test_onehot=to_categorical(y_test)"
      ],
      "metadata": {
        "id": "x5_DJ07Wp447"
      },
      "execution_count": 115,
      "outputs": []
    },
    {
      "cell_type": "code",
      "source": [
        "alexnet=Sequential()\n",
        "#Layer 1\n",
        "alexnet.add(Conv2D(96,(11,11), input_shape=(227,227,3),padding='same'))\n",
        "alexnet.add(BatchNormalization())\n",
        "conv1=Activation('relu')\n",
        "alexnet.add(conv1)\n",
        "max_pool_1=MaxPooling2D(pool_size=(2,2))\n",
        "alexnet.add(max_pool_1)\n",
        "\n",
        "#Layer 2\n",
        "alexnet.add(Conv2D(256, (5, 5), padding='same'))\n",
        "alexnet.add(BatchNormalization())\n",
        "conv2=Activation('relu')\n",
        "alexnet.add(conv2)\n",
        "max_pool_2=MaxPooling2D(pool_size=(2, 2))\n",
        "alexnet.add(max_pool_2)\n",
        "\n",
        "# Layer 3\n",
        "alexnet.add(ZeroPadding2D((1, 1)))\n",
        "alexnet.add(Conv2D(512, (3, 3), padding='same'))\n",
        "alexnet.add(BatchNormalization())\n",
        "alexnet.add(Activation('relu'))\n",
        "alexnet.add(MaxPooling2D(pool_size=(2, 2)))\n",
        "\n",
        "# Layer 4\n",
        "alexnet.add(ZeroPadding2D((1, 1)))\n",
        "alexnet.add(Conv2D(1024, (3, 3), padding='same'))\n",
        "alexnet.add(BatchNormalization())\n",
        "alexnet.add(Activation('relu'))\n",
        "\n",
        "# Layer 5\n",
        "alexnet.add(ZeroPadding2D((1, 1)))\n",
        "alexnet.add(Conv2D(1024, (3, 3), padding='same'))\n",
        "alexnet.add(BatchNormalization())\n",
        "alexnet.add(Activation('relu'))\n",
        "max_pool_5=MaxPooling2D(pool_size=(2, 2))\n",
        "alexnet.add(max_pool_5)\n",
        "\n",
        "# Layer 6\n",
        "alexnet.add(Flatten())\n",
        "alexnet.add(Dense(512))\n",
        "alexnet.add(BatchNormalization())\n",
        "alexnet.add(Activation('relu'))\n",
        "alexnet.add(Dropout(0.5))\n",
        "\n",
        "# Layer 7\n",
        "alexnet.add(Dense(512))\n",
        "alexnet.add(BatchNormalization())\n",
        "alexnet.add(Activation('relu'))\n",
        "alexnet.add(Dropout(0.5))\n",
        "\n",
        "# Layer 8\n",
        "alexnet.add(Dense(3))\n",
        "alexnet.add(BatchNormalization())\n",
        "alexnet.add(Activation('softmax'))"
      ],
      "metadata": {
        "id": "gxQVtygurfOo"
      },
      "execution_count": 127,
      "outputs": []
    },
    {
      "cell_type": "code",
      "source": [
        "alexnet.summary()\n"
      ],
      "metadata": {
        "colab": {
          "base_uri": "https://localhost:8080/"
        },
        "id": "0_kyykqrs5iE",
        "outputId": "041f9285-9dbe-4d5e-e6e2-5d16230fbd4e"
      },
      "execution_count": 128,
      "outputs": [
        {
          "output_type": "stream",
          "name": "stdout",
          "text": [
            "Model: \"sequential_5\"\n",
            "_________________________________________________________________\n",
            " Layer (type)                Output Shape              Param #   \n",
            "=================================================================\n",
            " conv2d_33 (Conv2D)          (None, 227, 227, 96)      34944     \n",
            "                                                                 \n",
            " batch_normalization_40 (Bat  (None, 227, 227, 96)     384       \n",
            " chNormalization)                                                \n",
            "                                                                 \n",
            " activation_40 (Activation)  (None, 227, 227, 96)      0         \n",
            "                                                                 \n",
            " max_pooling2d_20 (MaxPoolin  (None, 113, 113, 96)     0         \n",
            " g2D)                                                            \n",
            "                                                                 \n",
            " conv2d_34 (Conv2D)          (None, 113, 113, 256)     614656    \n",
            "                                                                 \n",
            " batch_normalization_41 (Bat  (None, 113, 113, 256)    1024      \n",
            " chNormalization)                                                \n",
            "                                                                 \n",
            " activation_41 (Activation)  (None, 113, 113, 256)     0         \n",
            "                                                                 \n",
            " max_pooling2d_21 (MaxPoolin  (None, 56, 56, 256)      0         \n",
            " g2D)                                                            \n",
            "                                                                 \n",
            " zero_padding2d_15 (ZeroPadd  (None, 58, 58, 256)      0         \n",
            " ing2D)                                                          \n",
            "                                                                 \n",
            " conv2d_35 (Conv2D)          (None, 58, 58, 512)       1180160   \n",
            "                                                                 \n",
            " batch_normalization_42 (Bat  (None, 58, 58, 512)      2048      \n",
            " chNormalization)                                                \n",
            "                                                                 \n",
            " activation_42 (Activation)  (None, 58, 58, 512)       0         \n",
            "                                                                 \n",
            " max_pooling2d_22 (MaxPoolin  (None, 29, 29, 512)      0         \n",
            " g2D)                                                            \n",
            "                                                                 \n",
            " zero_padding2d_16 (ZeroPadd  (None, 31, 31, 512)      0         \n",
            " ing2D)                                                          \n",
            "                                                                 \n",
            " conv2d_36 (Conv2D)          (None, 31, 31, 1024)      4719616   \n",
            "                                                                 \n",
            " batch_normalization_43 (Bat  (None, 31, 31, 1024)     4096      \n",
            " chNormalization)                                                \n",
            "                                                                 \n",
            " activation_43 (Activation)  (None, 31, 31, 1024)      0         \n",
            "                                                                 \n",
            " zero_padding2d_17 (ZeroPadd  (None, 33, 33, 1024)     0         \n",
            " ing2D)                                                          \n",
            "                                                                 \n",
            " conv2d_37 (Conv2D)          (None, 33, 33, 1024)      9438208   \n",
            "                                                                 \n",
            " batch_normalization_44 (Bat  (None, 33, 33, 1024)     4096      \n",
            " chNormalization)                                                \n",
            "                                                                 \n",
            " activation_44 (Activation)  (None, 33, 33, 1024)      0         \n",
            "                                                                 \n",
            " max_pooling2d_23 (MaxPoolin  (None, 16, 16, 1024)     0         \n",
            " g2D)                                                            \n",
            "                                                                 \n",
            " flatten_5 (Flatten)         (None, 262144)            0         \n",
            "                                                                 \n",
            " dense_15 (Dense)            (None, 512)               134218240 \n",
            "                                                                 \n",
            " batch_normalization_45 (Bat  (None, 512)              2048      \n",
            " chNormalization)                                                \n",
            "                                                                 \n",
            " activation_45 (Activation)  (None, 512)               0         \n",
            "                                                                 \n",
            " dropout_10 (Dropout)        (None, 512)               0         \n",
            "                                                                 \n",
            " dense_16 (Dense)            (None, 512)               262656    \n",
            "                                                                 \n",
            " batch_normalization_46 (Bat  (None, 512)              2048      \n",
            " chNormalization)                                                \n",
            "                                                                 \n",
            " activation_46 (Activation)  (None, 512)               0         \n",
            "                                                                 \n",
            " dropout_11 (Dropout)        (None, 512)               0         \n",
            "                                                                 \n",
            " dense_17 (Dense)            (None, 3)                 1539      \n",
            "                                                                 \n",
            " batch_normalization_47 (Bat  (None, 3)                12        \n",
            " chNormalization)                                                \n",
            "                                                                 \n",
            " activation_47 (Activation)  (None, 3)                 0         \n",
            "                                                                 \n",
            "=================================================================\n",
            "Total params: 150,485,775\n",
            "Trainable params: 150,477,897\n",
            "Non-trainable params: 7,878\n",
            "_________________________________________________________________\n"
          ]
        }
      ]
    },
    {
      "cell_type": "code",
      "source": [
        "alexnet.compile(loss=keras.losses.categorical_crossentropy, optimizer='adam', metrics=['accuracy'])"
      ],
      "metadata": {
        "id": "nwG1Ayeys-yQ"
      },
      "execution_count": 129,
      "outputs": []
    },
    {
      "cell_type": "code",
      "source": [
        "history=alexnet.fit(x_train[0:227], y_train_onehot[0:227], batch_size=8, epochs=20, validation_split=0.1, shuffle=True)"
      ],
      "metadata": {
        "colab": {
          "base_uri": "https://localhost:8080/"
        },
        "id": "b8FSZVzbtFDl",
        "outputId": "d83ed68f-e1a6-40de-f107-e67741118053"
      },
      "execution_count": 130,
      "outputs": [
        {
          "output_type": "stream",
          "name": "stdout",
          "text": [
            "Epoch 1/20\n",
            "16/16 [==============================] - 353s 22s/step - loss: 1.2678 - accuracy: 0.3471 - val_loss: 561.4216 - val_accuracy: 0.6429\n",
            "Epoch 2/20\n",
            "16/16 [==============================] - 336s 21s/step - loss: 1.0359 - accuracy: 0.4876 - val_loss: 324.4914 - val_accuracy: 0.6429\n",
            "Epoch 3/20\n",
            "16/16 [==============================] - 337s 21s/step - loss: 0.8393 - accuracy: 0.6364 - val_loss: 45.0792 - val_accuracy: 0.6429\n",
            "Epoch 4/20\n",
            "16/16 [==============================] - 336s 21s/step - loss: 0.7937 - accuracy: 0.6529 - val_loss: 42.8173 - val_accuracy: 0.6429\n",
            "Epoch 5/20\n",
            "16/16 [==============================] - 338s 21s/step - loss: 0.6759 - accuracy: 0.7273 - val_loss: 16.8664 - val_accuracy: 0.2857\n",
            "Epoch 6/20\n",
            "16/16 [==============================] - 338s 21s/step - loss: 0.7373 - accuracy: 0.7190 - val_loss: 12.3893 - val_accuracy: 0.5714\n",
            "Epoch 7/20\n",
            "16/16 [==============================] - 340s 21s/step - loss: 0.6745 - accuracy: 0.7603 - val_loss: 7.6707 - val_accuracy: 0.2143\n",
            "Epoch 8/20\n",
            "16/16 [==============================] - 339s 21s/step - loss: 0.6118 - accuracy: 0.7603 - val_loss: 10.4155 - val_accuracy: 0.1429\n",
            "Epoch 9/20\n",
            "16/16 [==============================] - 338s 21s/step - loss: 0.5957 - accuracy: 0.7686 - val_loss: 17.3472 - val_accuracy: 0.2143\n",
            "Epoch 10/20\n",
            "16/16 [==============================] - 348s 22s/step - loss: 0.5489 - accuracy: 0.7934 - val_loss: 5.9237 - val_accuracy: 0.3571\n",
            "Epoch 11/20\n",
            "16/16 [==============================] - 338s 21s/step - loss: 0.6462 - accuracy: 0.7686 - val_loss: 5.0622 - val_accuracy: 0.2143\n",
            "Epoch 12/20\n",
            "16/16 [==============================] - 338s 21s/step - loss: 0.5306 - accuracy: 0.8595 - val_loss: 3.8434 - val_accuracy: 0.2143\n",
            "Epoch 13/20\n",
            "16/16 [==============================] - 346s 22s/step - loss: 0.4937 - accuracy: 0.8430 - val_loss: 4.0967 - val_accuracy: 0.2143\n",
            "Epoch 14/20\n",
            "16/16 [==============================] - 338s 21s/step - loss: 0.5343 - accuracy: 0.7934 - val_loss: 7.4871 - val_accuracy: 0.0714\n",
            "Epoch 15/20\n",
            "16/16 [==============================] - 338s 21s/step - loss: 0.4651 - accuracy: 0.8512 - val_loss: 3.8455 - val_accuracy: 0.2143\n",
            "Epoch 16/20\n",
            "16/16 [==============================] - 339s 21s/step - loss: 0.4176 - accuracy: 0.8678 - val_loss: 2.6512 - val_accuracy: 0.3571\n",
            "Epoch 17/20\n",
            "16/16 [==============================] - 350s 22s/step - loss: 0.4496 - accuracy: 0.8678 - val_loss: 2.7369 - val_accuracy: 0.4286\n",
            "Epoch 18/20\n",
            "16/16 [==============================] - 339s 21s/step - loss: 0.4723 - accuracy: 0.8512 - val_loss: 3.2269 - val_accuracy: 0.2857\n",
            "Epoch 19/20\n",
            "16/16 [==============================] - 336s 21s/step - loss: 0.3467 - accuracy: 0.9504 - val_loss: 2.5552 - val_accuracy: 0.4286\n",
            "Epoch 20/20\n",
            "16/16 [==============================] - 346s 22s/step - loss: 0.4022 - accuracy: 0.9174 - val_loss: 2.4457 - val_accuracy: 0.3571\n"
          ]
        }
      ]
    },
    {
      "cell_type": "code",
      "source": [
        "import tensorflow as tf\n",
        "from tensorflow.keras.datasets import mnist\n",
        "from tensorflow.keras.models import Sequential\n",
        "from tensorflow.keras.layers import Dense, Flatten, Conv2D, MaxPooling2D\n",
        "from tensorflow.keras.utils import to_categorical\n",
        "(x_train, y_train), (x_test, y_test) = mnist.load_data()\n",
        "x_train = x_train.reshape(x_train.shape[0], 28, 28, 1)\n",
        "x_test = x_test.reshape(x_test.shape[0], 28, 28, 1)\n",
        "x_train = x_train.astype('float32') / 255\n",
        "x_test = x_test.astype('float32') / 255\n",
        "y_train = to_categorical(y_train, num_classes=10)\n",
        "y_test = to_categorical(y_test, num_classes=10)\n",
        "model = Sequential()\n",
        "model.add(Conv2D(32, kernel_size=(3, 3), activation='relu', input_shape=(28, 28, 1)))\n",
        "model.add(MaxPooling2D(pool_size=(2, 2)))\n",
        "model.add(Conv2D(64, kernel_size=(3, 3), activation='relu'))\n",
        "model.add(MaxPooling2D(pool_size=(2, 2)))\n",
        "model.add(Flatten())\n",
        "model.add(Dense(128, activation='relu'))\n",
        "model.add(Dense(10, activation='softmax'))\n",
        "model.compile(loss='categorical_crossentropy', optimizer='adam', metrics=['accuracy'])\n",
        "history = model.fit(x_train, y_train, batch_size=8, epochs=20, verbose=1, validation_split=0.1)\n",
        "test_loss, test_acc = model.evaluate(x_test, y_test, verbose=0)\n",
        "print(f'Test loss: {test_loss:.3f}, Test accuracy: {test_acc:.3f}')"
      ],
      "metadata": {
        "colab": {
          "base_uri": "https://localhost:8080/"
        },
        "id": "dTTxVzgctHpA",
        "outputId": "a15f501f-0c78-4a2d-de14-8d1497fdbb3d"
      },
      "execution_count": null,
      "outputs": [
        {
          "output_type": "stream",
          "name": "stdout",
          "text": [
            "Downloading data from https://storage.googleapis.com/tensorflow/tf-keras-datasets/mnist.npz\n",
            "11490434/11490434 [==============================] - 0s 0us/step\n",
            "Epoch 1/20\n",
            "6750/6750 [==============================] - 69s 10ms/step - loss: 0.1076 - accuracy: 0.9665 - val_loss: 0.0443 - val_accuracy: 0.9883\n",
            "Epoch 2/20\n",
            "5282/6750 [======================>.......] - ETA: 13s - loss: 0.0405 - accuracy: 0.9873"
          ]
        }
      ]
    },
    {
      "cell_type": "code",
      "source": [
        "alexnet.save('Weed_Detection _Model.h5')"
      ],
      "metadata": {
        "id": "kXiYGn5y_nR2"
      },
      "execution_count": null,
      "outputs": []
    }
  ]
}